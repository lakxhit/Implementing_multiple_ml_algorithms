{
  "nbformat": 4,
  "nbformat_minor": 0,
  "metadata": {
    "colab": {
      "provenance": []
    },
    "kernelspec": {
      "name": "python3",
      "display_name": "Python 3"
    },
    "language_info": {
      "name": "python"
    }
  },
  "cells": [
    {
      "cell_type": "code",
      "source": [
        "# Step 1: Install mlxtend (if not already installed)\n",
        "!pip install mlxtend\n",
        "\n",
        "# Step 2: Import necessary libraries\n",
        "import pandas as pd\n",
        "from mlxtend.frequent_patterns import apriori\n",
        "from mlxtend.frequent_patterns import association_rules\n",
        "\n",
        "# Step 3: Create the transaction dataset\n",
        "data = {\n",
        "    'T1': ['Bread', 'Milk', 'Eggs'],\n",
        "    'T2': ['Bread', 'Butter'],\n",
        "    'T3': ['Milk', 'Eggs', 'Butter'],\n",
        "    'T4': ['Bread', 'Milk'],\n",
        "    'T5': ['Bread', 'Eggs']\n",
        "}\n",
        "\n",
        "# Convert data to a one-hot encoded DataFrame\n",
        "items = sorted(set(item for transaction in data.values() for item in transaction))\n",
        "encoded_data = {item: [1 if item in transaction else 0 for transaction in data.values()] for item in items}\n",
        "df = pd.DataFrame(encoded_data)\n",
        "\n",
        "# Step 4: Apply the Apriori algorithm to find frequent itemsets\n",
        "# Define minimum support (e.g., support threshold of 2 means min_support=2/5=0.4)\n",
        "min_support = 2 / len(data)  # 0.4 for minimum support of 2\n",
        "frequent_itemsets = apriori(df, min_support=min_support, use_colnames=True)\n",
        "\n",
        "# Step 5: Generate association rules from the frequent itemsets\n",
        "# Define minimum confidence (50% as per example)\n",
        "min_confidence = 0.5\n",
        "rules = association_rules(frequent_itemsets, metric=\"confidence\", min_threshold=min_confidence)\n",
        "\n",
        "# Display the results\n",
        "print(\"Frequent Itemsets:\\n\", frequent_itemsets)\n",
        "print(\"\\nAssociation Rules:\\n\", rules)\n"
      ],
      "metadata": {
        "colab": {
          "base_uri": "https://localhost:8080/"
        },
        "id": "5OEj3CPesZPV",
        "outputId": "612f02a0-54ba-4324-b852-e245967b779a"
      },
      "execution_count": 1,
      "outputs": [
        {
          "output_type": "stream",
          "name": "stdout",
          "text": [
            "Requirement already satisfied: mlxtend in /usr/local/lib/python3.12/dist-packages (0.23.4)\n",
            "Requirement already satisfied: scipy>=1.2.1 in /usr/local/lib/python3.12/dist-packages (from mlxtend) (1.16.2)\n",
            "Requirement already satisfied: numpy>=1.16.2 in /usr/local/lib/python3.12/dist-packages (from mlxtend) (2.0.2)\n",
            "Requirement already satisfied: pandas>=0.24.2 in /usr/local/lib/python3.12/dist-packages (from mlxtend) (2.2.2)\n",
            "Requirement already satisfied: scikit-learn>=1.3.1 in /usr/local/lib/python3.12/dist-packages (from mlxtend) (1.6.1)\n",
            "Requirement already satisfied: matplotlib>=3.0.0 in /usr/local/lib/python3.12/dist-packages (from mlxtend) (3.10.0)\n",
            "Requirement already satisfied: joblib>=0.13.2 in /usr/local/lib/python3.12/dist-packages (from mlxtend) (1.5.2)\n",
            "Requirement already satisfied: contourpy>=1.0.1 in /usr/local/lib/python3.12/dist-packages (from matplotlib>=3.0.0->mlxtend) (1.3.3)\n",
            "Requirement already satisfied: cycler>=0.10 in /usr/local/lib/python3.12/dist-packages (from matplotlib>=3.0.0->mlxtend) (0.12.1)\n",
            "Requirement already satisfied: fonttools>=4.22.0 in /usr/local/lib/python3.12/dist-packages (from matplotlib>=3.0.0->mlxtend) (4.60.1)\n",
            "Requirement already satisfied: kiwisolver>=1.3.1 in /usr/local/lib/python3.12/dist-packages (from matplotlib>=3.0.0->mlxtend) (1.4.9)\n",
            "Requirement already satisfied: packaging>=20.0 in /usr/local/lib/python3.12/dist-packages (from matplotlib>=3.0.0->mlxtend) (25.0)\n",
            "Requirement already satisfied: pillow>=8 in /usr/local/lib/python3.12/dist-packages (from matplotlib>=3.0.0->mlxtend) (11.3.0)\n",
            "Requirement already satisfied: pyparsing>=2.3.1 in /usr/local/lib/python3.12/dist-packages (from matplotlib>=3.0.0->mlxtend) (3.2.5)\n",
            "Requirement already satisfied: python-dateutil>=2.7 in /usr/local/lib/python3.12/dist-packages (from matplotlib>=3.0.0->mlxtend) (2.9.0.post0)\n",
            "Requirement already satisfied: pytz>=2020.1 in /usr/local/lib/python3.12/dist-packages (from pandas>=0.24.2->mlxtend) (2025.2)\n",
            "Requirement already satisfied: tzdata>=2022.7 in /usr/local/lib/python3.12/dist-packages (from pandas>=0.24.2->mlxtend) (2025.2)\n",
            "Requirement already satisfied: threadpoolctl>=3.1.0 in /usr/local/lib/python3.12/dist-packages (from scikit-learn>=1.3.1->mlxtend) (3.6.0)\n",
            "Requirement already satisfied: six>=1.5 in /usr/local/lib/python3.12/dist-packages (from python-dateutil>=2.7->matplotlib>=3.0.0->mlxtend) (1.17.0)\n",
            "Frequent Itemsets:\n",
            "    support       itemsets\n",
            "0      0.8        (Bread)\n",
            "1      0.4       (Butter)\n",
            "2      0.6         (Eggs)\n",
            "3      0.6         (Milk)\n",
            "4      0.4  (Bread, Eggs)\n",
            "5      0.4  (Milk, Bread)\n",
            "6      0.4   (Milk, Eggs)\n",
            "\n",
            "Association Rules:\n",
            "   antecedents consequents  antecedent support  consequent support  support  \\\n",
            "0     (Bread)      (Eggs)                 0.8                 0.6      0.4   \n",
            "1      (Eggs)     (Bread)                 0.6                 0.8      0.4   \n",
            "2      (Milk)     (Bread)                 0.6                 0.8      0.4   \n",
            "3     (Bread)      (Milk)                 0.8                 0.6      0.4   \n",
            "4      (Milk)      (Eggs)                 0.6                 0.6      0.4   \n",
            "5      (Eggs)      (Milk)                 0.6                 0.6      0.4   \n",
            "\n",
            "   confidence      lift  representativity  leverage  conviction  \\\n",
            "0    0.500000  0.833333               1.0     -0.08         0.8   \n",
            "1    0.666667  0.833333               1.0     -0.08         0.6   \n",
            "2    0.666667  0.833333               1.0     -0.08         0.6   \n",
            "3    0.500000  0.833333               1.0     -0.08         0.8   \n",
            "4    0.666667  1.111111               1.0      0.04         1.2   \n",
            "5    0.666667  1.111111               1.0      0.04         1.2   \n",
            "\n",
            "   zhangs_metric  jaccard  certainty  kulczynski  \n",
            "0      -0.500000      0.4  -0.250000    0.583333  \n",
            "1      -0.333333      0.4  -0.666667    0.583333  \n",
            "2      -0.333333      0.4  -0.666667    0.583333  \n",
            "3      -0.500000      0.4  -0.250000    0.583333  \n",
            "4       0.250000      0.5   0.166667    0.666667  \n",
            "5       0.250000      0.5   0.166667    0.666667  \n"
          ]
        },
        {
          "output_type": "stream",
          "name": "stderr",
          "text": [
            "/usr/local/lib/python3.12/dist-packages/mlxtend/frequent_patterns/fpcommon.py:161: DeprecationWarning: DataFrames with non-bool types result in worse computationalperformance and their support might be discontinued in the future.Please use a DataFrame with bool type\n",
            "  warnings.warn(\n",
            "/usr/local/lib/python3.12/dist-packages/jupyter_client/session.py:203: DeprecationWarning: datetime.datetime.utcnow() is deprecated and scheduled for removal in a future version. Use timezone-aware objects to represent datetimes in UTC: datetime.datetime.now(datetime.UTC).\n",
            "  return datetime.utcnow().replace(tzinfo=utc)\n",
            "/usr/local/lib/python3.12/dist-packages/jupyter_client/session.py:203: DeprecationWarning: datetime.datetime.utcnow() is deprecated and scheduled for removal in a future version. Use timezone-aware objects to represent datetimes in UTC: datetime.datetime.now(datetime.UTC).\n",
            "  return datetime.utcnow().replace(tzinfo=utc)\n",
            "/usr/local/lib/python3.12/dist-packages/jupyter_client/session.py:203: DeprecationWarning: datetime.datetime.utcnow() is deprecated and scheduled for removal in a future version. Use timezone-aware objects to represent datetimes in UTC: datetime.datetime.now(datetime.UTC).\n",
            "  return datetime.utcnow().replace(tzinfo=utc)\n"
          ]
        }
      ]
    }
  ]
}